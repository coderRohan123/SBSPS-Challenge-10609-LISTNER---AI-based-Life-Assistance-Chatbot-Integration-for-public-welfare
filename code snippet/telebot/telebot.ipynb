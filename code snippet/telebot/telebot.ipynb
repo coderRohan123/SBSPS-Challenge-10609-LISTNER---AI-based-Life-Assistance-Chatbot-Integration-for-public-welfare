{
  "nbformat": 4,
  "nbformat_minor": 0,
  "metadata": {
    "colab": {
      "provenance": []
    },
    "kernelspec": {
      "name": "python3",
      "display_name": "Python 3"
    },
    "language_info": {
      "name": "python"
    }
  },
  "cells": [
    {
      "cell_type": "code",
      "execution_count": null,
      "metadata": {
        "id": "sXIO272emkYA"
      },
      "outputs": [],
      "source": [
        "!pip install transformers==4.29.2\n",
        "!pip install accelerate==0.19.0\n",
        "!pip install torch==2.0.0\n",
        "!pip install einops==0.6.1\n",
        "!pip install flask\n",
        "!pip install pytelegrambotapi\n",
        "!pip install python-dotenv\n",
        "!pip install requests\n",
        "!pip install twilio\n",
        "\n",
        "from flask import Flask,redirect,url_for,render_template,request\n",
        "from twilio.rest import Client\n",
        "\n",
        "from chat import get_response\n",
        "\n",
        "#for emotion analysis\n",
        "import joblib\n",
        "loaded_model = joblib.load('/content/emotion_model.joblib')\n",
        "#sentiment scores are as followed\n",
        "'''Anger-0\n",
        "  Disgust-1\n",
        "  Fear-2\n",
        "  Guilty-3\n",
        "  Joy-4\n",
        "  Love-5\n",
        "  Sadness-6\n",
        "  Shame-7\n",
        "  surprise-8'''\n",
        "\n",
        "\n",
        "import telebot\n",
        "bot=telebot.TeleBot('6447345913:AAHAJCE94pJ3weuLKV2gqdf7T6UiIp6IAW0')\n",
        "\n",
        "\n",
        "@bot.message_handler(commands=['ai','info'])\n",
        "def ai_handler(message):\n",
        "  if message.text=='/ai':\n",
        "    bot.reply_to(message,'Be clear pal. What do you want talk about? 🙂 ')\n",
        "  if message.text=='/info':\n",
        "    bot.reply_to(message,'Sup!!🙂 i am hearky , your Ai telebot created by Master Atulya.')\n",
        "    bot.reply_to(message,'Ask me anything (use /ai followed by your text), will try my best to answer it ✊')\n",
        "  else:\n",
        "    refine_message=message.text.replace('/ai','')\n",
        "    emotion_num=loaded_model.predict([refine_message]) #predicts the sentiment number\n",
        "\n",
        "    response=f\"\"\"\n",
        "    {get_response(refine_message)}\n",
        "    \"\"\"\n",
        "    senti_msg=''\n",
        "    if(emotion_num==0):\n",
        "      senti_msg=\"you seem angry. I know the whole world sucks sometimes,but we gotta keep our cool and move on.\"\n",
        "\n",
        "    elif(emotion_num==2):\n",
        "      senti_msg=\"I have texted the authorities and your family memebers, until they reach out to you just keep calm and keep it low\"\n",
        "\n",
        "    elif (emotion_num==6):\n",
        "      senti_msg=\"We all have our lows and highs. These times test us and we need to keep our hearts strong and face it with all of our might.Just believe and everything's gonna be fine ✊\"\n",
        "\n",
        "    elif (emotion_num==7 or emotion_num==3):\n",
        "      senti_msg=\"There are times when we regret the choices we make, but even then we have our options, whether to keep on thinking about the mistakes or take a choice to somehow mend it. The choices we make at this point makes all the difference my friend :\"\n",
        "\n",
        "    bot.reply_to(message,response)\n",
        "    bot.reply_to(message,senti_msg)\n",
        "\n",
        "if __name__=='__main__':\n",
        "  print('bot is running')\n",
        "  bot.polling()\n"
      ]
    }
  ]
}